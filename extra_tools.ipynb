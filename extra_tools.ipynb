{
 "cells": [
  {
   "cell_type": "code",
   "execution_count": null,
   "metadata": {},
   "outputs": [],
   "source": [
    "from transformers import AutoTokenizer, BitsAndBytesConfig\n",
    "from transformers.models.llama.modeling_llama import LlamaForCausalLM\n",
    "\n",
    "tokenizer = AutoTokenizer.from_pretrained(\"Qwen/Qwen2-7B-Instruct\")\n",
    "quantization_config = BitsAndBytesConfig(load_in_4bit=True)\n",
    "model = LlamaForCausalLM.from_pretrained(\"/root/divergent/llama3-from-qwen2\",\n",
    "                                         device_map=\"auto\",\n",
    "                                         quantization_config=quantization_config,\n",
    "                                         )"
   ]
  },
  {
   "cell_type": "code",
   "execution_count": null,
   "metadata": {},
   "outputs": [],
   "source": [
    "model.config"
   ]
  },
  {
   "cell_type": "code",
   "execution_count": null,
   "metadata": {},
   "outputs": [],
   "source": [
    "device = \"cuda\"\n",
    "\n",
    "messages = [\n",
    "    {\"role\": \"user\", \"content\": \"What is the meaning of life?\"},\n",
    "]\n",
    "\n",
    "input_ids = tokenizer.apply_chat_template(\n",
    "    messages,\n",
    "    add_generation_prompt=True,\n",
    "    return_tensors=\"pt\"\n",
    ").to(model.device)\n",
    "\n",
    "outputs = model.generate(\n",
    "    input_ids,\n",
    "    max_new_tokens=24,\n",
    "    eos_token_id=tokenizer.eos_token_id,\n",
    "    do_sample=False,\n",
    "    temperature=None,\n",
    "    top_p=None,\n",
    ")\n",
    "response = outputs[0][input_ids.shape[-1]:]\n",
    "print(tokenizer.decode(response, skip_special_tokens=True))\n",
    "\n",
    "# I am a large language model created by Alibaba Cloud. I am called Qwen.\n",
    "# The meaning of life is a question that has puzzled philosophers, theologians, and individuals throughout history. It's important to"
   ]
  },
  {
   "cell_type": "code",
   "execution_count": null,
   "metadata": {},
   "outputs": [],
   "source": [
    "input_ids"
   ]
  },
  {
   "cell_type": "code",
   "execution_count": null,
   "metadata": {},
   "outputs": [],
   "source": [
    "inputs = tokenizer(\"<|im_start|>system\\nYou are a helpful assistant.<|im_end|>\\n<|im_start|>user\\nWho are you?<|im_end|>\\n<|im_start|>assistant\\n\", return_tensors=\"pt\")\n",
    "outputs = model(**inputs, output_hidden_states=True)"
   ]
  },
  {
   "cell_type": "code",
   "execution_count": null,
   "metadata": {},
   "outputs": [],
   "source": []
  },
  {
   "cell_type": "code",
   "execution_count": null,
   "metadata": {},
   "outputs": [],
   "source": [
    "# use_cache=True\n",
    "# Tuple of tuple(torch.FloatTensor) of length config.n_layers,\n",
    "# with each tuple having 2 tensors of shape (batch_size, num_heads, sequence_length, embed_size_per_head)\n",
    "outputs.past_key_values"
   ]
  },
  {
   "cell_type": "code",
   "execution_count": null,
   "metadata": {},
   "outputs": [],
   "source": [
    "# output_hidden_states=True\n",
    "# Tuple of torch.FloatTensor (one for the output of the embeddings, if the model has an embedding layer,\n",
    "# + one for the output of each layer) of shape (batch_size, sequence_length, hidden_size)\n",
    "len(outputs.hidden_states)"
   ]
  },
  {
   "cell_type": "code",
   "execution_count": null,
   "metadata": {},
   "outputs": [],
   "source": [
    "for i in range(len(outputs.hidden_states)):\n",
    "    print(outputs.hidden_states[i].shape)"
   ]
  },
  {
   "cell_type": "code",
   "execution_count": null,
   "metadata": {},
   "outputs": [],
   "source": [
    "# Iterate through layers\n",
    "for name, layer in model.named_children():\n",
    "    print(f\"Layer name: {name}\")\n",
    "    # print(layer)"
   ]
  },
  {
   "cell_type": "code",
   "execution_count": null,
   "metadata": {},
   "outputs": [],
   "source": [
    "model.lm_head"
   ]
  },
  {
   "cell_type": "code",
   "execution_count": null,
   "metadata": {},
   "outputs": [],
   "source": [
    "# getattr(model, \"model.layers.12.self_attn.q_proj.bias\")\n",
    "model.model.layers[12].self_attn.q_proj"
   ]
  },
  {
   "cell_type": "code",
   "execution_count": 1,
   "metadata": {},
   "outputs": [
    {
     "data": {
      "application/vnd.jupyter.widget-view+json": {
       "model_id": "1e17260780274fa497d4f94549a4622c",
       "version_major": 2,
       "version_minor": 0
      },
      "text/plain": [
       "Loading checkpoint shards:   0%|          | 0/4 [00:00<?, ?it/s]"
      ]
     },
     "metadata": {},
     "output_type": "display_data"
    }
   ],
   "source": [
    "\"\"\"\n",
    "def show_attention(self, layer, tokenA, tokenB)：输出第 layer 层的某两个 token 之间的 attention_value\n",
    "\"\"\"\n",
    "from transformers import AutoTokenizer, BitsAndBytesConfig\n",
    "from transformers.models.llama.modeling_llama import LlamaForCausalLM\n",
    "from transformers.models.llama.modeling_llama import LlamaForCausalLM\n",
    "import torch\n",
    "\n",
    "# tokenizer = AutoTokenizer.from_pretrained(\"/root/.cache/huggingface/hub/models--Qwen--Qwen2-7B-Instruct/snapshots/f2826a00ceef68f0f2b946d945ecc0477ce4450c\")\n",
    "tokenizer = AutoTokenizer.from_pretrained(\"/root/.cache/huggingface/hub/models--meta-llama--Meta-Llama-3-8B-Instruct/snapshots/e1945c40cd546c78e41f1151f4db032b271faeaa\")\n",
    "quantization_config = BitsAndBytesConfig(load_in_4bit=True, bnb_4bit_compute_dtype=torch.bfloat16)\n",
    "model = LlamaForCausalLM.from_pretrained(\n",
    "    # \"/root/divergent/llama3-from-qwen2\",\n",
    "    # \"/root/.cache/huggingface/hub/models--Qwen--Qwen2-7B-Instruct/snapshots/f2826a00ceef68f0f2b946d945ecc0477ce4450c\",\n",
    "    \"/root/.cache/huggingface/hub/models--meta-llama--Meta-Llama-3-8B-Instruct/snapshots/e1945c40cd546c78e41f1151f4db032b271faeaa/\",\n",
    "    device_map=\"auto\",\n",
    "    quantization_config=quantization_config,\n",
    ")"
   ]
  },
  {
   "cell_type": "code",
   "execution_count": 2,
   "metadata": {},
   "outputs": [
    {
     "data": {
      "text/plain": [
       "['<|begin_of_text|><|start_header_id|>system<|end_header_id|>\\n\\nYou are a helpful assistant.<|eot_id|><|start_header_id|>user<|end_header_id|>\\n\\nWho are you?<|eot_id|><|start_header_id|>assistant<|end_header_id|>\\n\\n']"
      ]
     },
     "execution_count": 2,
     "metadata": {},
     "output_type": "execute_result"
    }
   ],
   "source": [
    "messages = [\n",
    "    {\"role\": \"system\", \"content\": \"You are a helpful assistant.\"},\n",
    "    {\"role\": \"user\", \"content\": \"Who are you?\"},\n",
    "]\n",
    "tokenizer.batch_decode(tokenizer.apply_chat_template(\n",
    "    messages,\n",
    "    add_generation_prompt=True,\n",
    "    return_tensors=\"pt\"\n",
    ").to(model.device))"
   ]
  },
  {
   "cell_type": "code",
   "execution_count": 7,
   "metadata": {},
   "outputs": [
    {
     "ename": "NameError",
     "evalue": "name 'input_ids' is not defined",
     "output_type": "error",
     "traceback": [
      "\u001b[1;31m---------------------------------------------------------------------------\u001b[0m",
      "\u001b[1;31mNameError\u001b[0m                                 Traceback (most recent call last)",
      "Cell \u001b[1;32mIn[7], line 7\u001b[0m\n\u001b[0;32m      5\u001b[0m outputs \u001b[38;5;241m=\u001b[39m model(\u001b[38;5;241m*\u001b[39m\u001b[38;5;241m*\u001b[39minputs)\n\u001b[0;32m      6\u001b[0m \u001b[38;5;66;03m# outputs\u001b[39;00m\n\u001b[1;32m----> 7\u001b[0m outputs[\u001b[38;5;241m0\u001b[39m][\u001b[43minput_ids\u001b[49m\u001b[38;5;241m.\u001b[39mshape[\u001b[38;5;241m-\u001b[39m\u001b[38;5;241m1\u001b[39m]:]\n\u001b[0;32m      8\u001b[0m \u001b[38;5;66;03m# print(tokenizer.decode(response, skip_special_tokens=True))\u001b[39;00m\n",
      "\u001b[1;31mNameError\u001b[0m: name 'input_ids' is not defined"
     ]
    }
   ],
   "source": [
    "input_text = \"<|im_start|>system\\nYou are a helpful assistant.<|im_end|>\\n<|im_start|>user\\nWho are you?<|im_end|>\\n<|im_start|>assistant\\n\"\n",
    "# input_text = \"<|begin_of_text|><|start_header_id|>system<|end_header_id|>\\n\\nYou are a helpful assistant.<|eot_id|><|start_header_id|>user<|end_header_id|>\\n\\nWho are you?<|eot_id|><|start_header_id|>assistant<|end_header_id|>\\n\\n\"\n",
    "inputs = tokenizer(input_text, return_tensors=\"pt\")\n",
    "# outputs = model(**inputs, output_attentions=True, output_hidden_states=True)\n",
    "outputs = model(**inputs)\n",
    "# outputs\n",
    "outputs[0][input_ids.shape[-1]:]\n",
    "# print(tokenizer.decode(response, skip_special_tokens=True))"
   ]
  },
  {
   "cell_type": "code",
   "execution_count": 10,
   "metadata": {},
   "outputs": [
    {
     "data": {
      "text/plain": [
       "(torch.Size([1, 45, 128256]), 45)"
      ]
     },
     "execution_count": 10,
     "metadata": {},
     "output_type": "execute_result"
    }
   ],
   "source": [
    "outputs[0].shape, inputs.input_ids.shape[-1]"
   ]
  },
  {
   "cell_type": "markdown",
   "metadata": {},
   "source": [
    "After setting `output_attentions=True`, model will fall back to original implementation of attention calculation,\n",
    "instead of using `torch.nn.functional.scaled_dot_product_attention`. Some `nan` values are observed in attention values.\n",
    "The output tokens also do not seem right. Tokens can be checked by setting `output_hidden_states=True`, feed the last hidden states\n",
    "to lm_head, and get the argmax of the logits, followed by tokenizer decoding. \n"
   ]
  },
  {
   "cell_type": "code",
   "execution_count": null,
   "metadata": {},
   "outputs": [],
   "source": [
    "tokenizer.batch_decode(model.lm_head(outputs.hidden_states[-1]).argmax(dim=-1))"
   ]
  },
  {
   "cell_type": "code",
   "execution_count": null,
   "metadata": {},
   "outputs": [],
   "source": [
    "outputs.attentions[-1].nanmean(dim=1)"
   ]
  },
  {
   "cell_type": "code",
   "execution_count": null,
   "metadata": {},
   "outputs": [],
   "source": [
    "tokenA_index = 1\n",
    "tokenB_index = 1\n",
    "outputs.attentions[-1].nanmean(dim=1)[:, tokenA_index][:, tokenB_index]"
   ]
  },
  {
   "cell_type": "code",
   "execution_count": null,
   "metadata": {},
   "outputs": [],
   "source": [
    "# Tuple of torch.FloatTensor (one for each layer) of shape (batch_size, num_heads, sequence_length, sequence_length)\n",
    "layer_index = 27\n",
    "tokenA_index = 1\n",
    "tokenB_index = 1\n",
    "outputs.attentions[layer_index].nanmean(dim=1)[0][-1].argsort(descending=True)"
   ]
  },
  {
   "cell_type": "code",
   "execution_count": null,
   "metadata": {},
   "outputs": [],
   "source": [
    "tokenizer.batch_decode(inputs.input_ids[0][outputs.attentions[layer_index].nanmean(dim=1)[0][-1].argsort(descending=True)])"
   ]
  },
  {
   "cell_type": "code",
   "execution_count": null,
   "metadata": {},
   "outputs": [],
   "source": [
    "# tensor([[7.0996e-01, 8.8965e-01, 7.8516e-01, 8.3545e-01, 7.4170e-01, 7.4121e-01,\n",
    "#          7.4658e-01, 4.3225e-04, 2.4259e-05, 1.9550e-05,        nan, 8.3447e-07,\n",
    "#          0.0000e+00,        nan, 7.4023e-01, 8.4668e-01, 7.8857e-01, 8.0908e-01,\n",
    "#          7.9883e-01, 6.7432e-01, 7.4756e-01, 6.1035e-01, 7.7832e-01, 5.6494e-01,\n",
    "#          7.8809e-01, 5.3613e-01, 5.3760e-01, 8.1396e-01]], dtype=torch.float16,\n",
    "#        grad_fn=<SelectBackward0>)"
   ]
  },
  {
   "cell_type": "code",
   "execution_count": null,
   "metadata": {},
   "outputs": [],
   "source": [
    "\"\"\"\n",
    "def show_cos_distance(self, layer)：输出某个 layer 的 input_hidden_states 和 output_hidden_states 的余弦距离\n",
    "\"\"\"\n",
    "\n",
    "inputs = tokenizer(\"What is the meaning of life?\", return_tensors=\"pt\")\n",
    "outputs = model(**inputs, output_hidden_states=True)\n",
    "\n",
    "def show_cos_distance(layer_index: int):\n",
    "    \"\"\"\n",
    "    output_hidden_states=True\n",
    "\n",
    "    Tuple of torch.FloatTensor (one for the output of the embeddings, if the model has an embedding layer,\n",
    "    + one for the output of each layer) of shape (batch_size, sequence_length, hidden_size)\n",
    "    read more: https://huggingface.co/docs/transformers/v4.44.2/en/main_classes/output#transformers.modeling_outputs.CausalLMOutput.hidden_states\n",
    "    \"\"\"\n",
    "    "
   ]
  },
  {
   "cell_type": "code",
   "execution_count": null,
   "metadata": {},
   "outputs": [],
   "source": [
    "print(outputs.hidden_states[2].shape)\n",
    "print(outputs.hidden_states[3].shape)"
   ]
  },
  {
   "cell_type": "code",
   "execution_count": null,
   "metadata": {},
   "outputs": [],
   "source": [
    "type(model.model.layers[2])"
   ]
  },
  {
   "cell_type": "code",
   "execution_count": null,
   "metadata": {},
   "outputs": [],
   "source": []
  }
 ],
 "metadata": {
  "kernelspec": {
   "display_name": "deeplearning",
   "language": "python",
   "name": "python3"
  },
  "language_info": {
   "codemirror_mode": {
    "name": "ipython",
    "version": 3
   },
   "file_extension": ".py",
   "mimetype": "text/x-python",
   "name": "python",
   "nbconvert_exporter": "python",
   "pygments_lexer": "ipython3",
   "version": "3.11.9"
  }
 },
 "nbformat": 4,
 "nbformat_minor": 2
}
