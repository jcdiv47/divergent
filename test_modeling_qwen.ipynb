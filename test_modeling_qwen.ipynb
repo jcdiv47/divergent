{
 "cells": [
  {
   "cell_type": "code",
   "execution_count": null,
   "metadata": {},
   "outputs": [],
   "source": [
    "from transformers import AutoTokenizer, AutoModelForCausalLM, BitsAndBytesConfig\n",
    "\n",
    "tokenizer = AutoTokenizer.from_pretrained(\"Qwen/Qwen2-7B-Instruct\")\n",
    "quantization_config = BitsAndBytesConfig(load_in_4bit=True)\n",
    "model = AutoModelForCausalLM.from_pretrained(\"Qwen/Qwen2-7B-Instruct\", quantization_config=quantization_config)"
   ]
  },
  {
   "cell_type": "code",
   "execution_count": 1,
   "metadata": {},
   "outputs": [
    {
     "data": {
      "application/vnd.jupyter.widget-view+json": {
       "model_id": "74684dc5112344a4b9be5ec31362c391",
       "version_major": 2,
       "version_minor": 0
      },
      "text/plain": [
       "Loading checkpoint shards:   0%|          | 0/8 [00:00<?, ?it/s]"
      ]
     },
     "metadata": {},
     "output_type": "display_data"
    },
    {
     "name": "stderr",
     "output_type": "stream",
     "text": [
      "Some weights of LlamaForCausalLM were not initialized from the model checkpoint at /root/divergent/llama3-from-qwen2 and are newly initialized: ['model.layers.0.self_attn.o_proj.bias', 'model.layers.1.self_attn.o_proj.bias', 'model.layers.10.self_attn.o_proj.bias', 'model.layers.11.self_attn.o_proj.bias', 'model.layers.12.self_attn.o_proj.bias', 'model.layers.13.self_attn.o_proj.bias', 'model.layers.14.self_attn.o_proj.bias', 'model.layers.15.self_attn.o_proj.bias', 'model.layers.16.self_attn.o_proj.bias', 'model.layers.17.self_attn.o_proj.bias', 'model.layers.18.self_attn.o_proj.bias', 'model.layers.19.self_attn.o_proj.bias', 'model.layers.2.self_attn.o_proj.bias', 'model.layers.20.self_attn.o_proj.bias', 'model.layers.21.self_attn.o_proj.bias', 'model.layers.22.self_attn.o_proj.bias', 'model.layers.23.self_attn.o_proj.bias', 'model.layers.24.self_attn.o_proj.bias', 'model.layers.25.self_attn.o_proj.bias', 'model.layers.26.self_attn.o_proj.bias', 'model.layers.27.self_attn.o_proj.bias', 'model.layers.3.self_attn.o_proj.bias', 'model.layers.4.self_attn.o_proj.bias', 'model.layers.5.self_attn.o_proj.bias', 'model.layers.6.self_attn.o_proj.bias', 'model.layers.7.self_attn.o_proj.bias', 'model.layers.8.self_attn.o_proj.bias', 'model.layers.9.self_attn.o_proj.bias']\n",
      "You should probably TRAIN this model on a down-stream task to be able to use it for predictions and inference.\n"
     ]
    }
   ],
   "source": [
    "from transformers import AutoTokenizer, BitsAndBytesConfig\n",
    "from transformers.models.llama.modeling_llama import LlamaForCausalLM\n",
    "\n",
    "tokenizer = AutoTokenizer.from_pretrained(\"Qwen/Qwen2-7B-Instruct\")\n",
    "quantization_config = BitsAndBytesConfig(load_in_4bit=True)\n",
    "model = LlamaForCausalLM.from_pretrained(\"/root/divergent/llama3-from-qwen2\",\n",
    "                                         device_map=\"auto\", quantization_config=quantization_config)"
   ]
  },
  {
   "cell_type": "code",
   "execution_count": 2,
   "metadata": {},
   "outputs": [
    {
     "name": "stderr",
     "output_type": "stream",
     "text": [
      "The attention mask and the pad token id were not set. As a consequence, you may observe unexpected behavior. Please pass your input's `attention_mask` to obtain reliable results.\n",
      "Setting `pad_token_id` to `eos_token_id`:151645 for open-end generation.\n",
      "The attention mask is not set and cannot be inferred from input because pad token is same as eos token. As a consequence, you may observe unexpected behavior. Please pass your input's `attention_mask` to obtain reliable results.\n",
      "/home/vipuser/anaconda3/envs/deeplearning/lib/python3.11/site-packages/bitsandbytes/nn/modules.py:435: UserWarning: Input type into Linear4bit is torch.float16, but bnb_4bit_compute_dtype=torch.float32 (default). This will lead to slow inference or training speed.\n",
      "  warnings.warn(\n"
     ]
    },
    {
     "name": "stdout",
     "output_type": "stream",
     "text": [
      "The meaning of life is a question that has puzzled philosophers, theologians, and individuals throughout history. It's important to\n"
     ]
    },
    {
     "ename": "",
     "evalue": "",
     "output_type": "error",
     "traceback": [
      "\u001b[1;31mThe Kernel crashed while executing code in the current cell or a previous cell. \n",
      "\u001b[1;31mPlease review the code in the cell(s) to identify a possible cause of the failure. \n",
      "\u001b[1;31mClick <a href='https://aka.ms/vscodeJupyterKernelCrash'>here</a> for more info. \n",
      "\u001b[1;31mView Jupyter <a href='command:jupyter.viewOutput'>log</a> for further details."
     ]
    }
   ],
   "source": [
    "messages = [\n",
    "    {\"role\": \"user\", \"content\": \"What is the meaning of life?\"},\n",
    "]\n",
    "\n",
    "input_ids = tokenizer.apply_chat_template(\n",
    "    messages,\n",
    "    add_generation_prompt=True,\n",
    "    return_tensors=\"pt\"\n",
    ").to(model.device)\n",
    "\n",
    "outputs = model.generate(\n",
    "    input_ids,\n",
    "    max_new_tokens=24,\n",
    "    eos_token_id=tokenizer.eos_token_id,\n",
    "    do_sample=False,\n",
    "    temperature=None,\n",
    "    top_p=None,\n",
    ")\n",
    "response = outputs[0][input_ids.shape[-1]:]\n",
    "print(tokenizer.decode(response, skip_special_tokens=True))\n",
    "\n",
    "# I am a large language model created by Alibaba Cloud. I am called Qwen.\n",
    "# The meaning of life is a question that has puzzled philosophers, theologians, and individuals throughout history. It's important to"
   ]
  },
  {
   "cell_type": "code",
   "execution_count": null,
   "metadata": {},
   "outputs": [],
   "source": []
  },
  {
   "cell_type": "code",
   "execution_count": null,
   "metadata": {},
   "outputs": [],
   "source": []
  },
  {
   "cell_type": "code",
   "execution_count": null,
   "metadata": {},
   "outputs": [],
   "source": []
  }
 ],
 "metadata": {
  "kernelspec": {
   "display_name": "deeplearning",
   "language": "python",
   "name": "python3"
  },
  "language_info": {
   "codemirror_mode": {
    "name": "ipython",
    "version": 3
   },
   "file_extension": ".py",
   "mimetype": "text/x-python",
   "name": "python",
   "nbconvert_exporter": "python",
   "pygments_lexer": "ipython3",
   "version": "3.11.9"
  }
 },
 "nbformat": 4,
 "nbformat_minor": 2
}
